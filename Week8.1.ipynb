{
 "cells": [
  {
   "cell_type": "markdown",
   "metadata": {},
   "source": [
    "#### Memoization and Dynamic Programming: \n",
    "\n",
    "Memoization : \n",
    "\n",
    "1. stores values of sub problems in a tables\n",
    "2. Look up the table before making a recursive call\n",
    "3. To avoid the code used before to be executed again to make it more efficient\n",
    "\n",
    "Dynamic Programming: \n",
    "\n",
    "1. Solve sub problems in order of dependency\n",
    "2. Dependencies must be acyclic\n",
    "3. Iterative evaluation, if implemented is much more efficient. \n"
   ]
  },
  {
   "cell_type": "code",
   "execution_count": 1,
   "metadata": {},
   "outputs": [],
   "source": [
    "#Fibonacci :\n",
    "#through NAIVE RECURSIONS\n",
    "\n",
    "def fib(n):\n",
    "    if n==0 or n==1:\n",
    "        value = n\n",
    "    else: \n",
    "        value = fib(n-1)+fib(n-2)\n",
    "    return value"
   ]
  },
  {
   "cell_type": "code",
   "execution_count": 5,
   "metadata": {},
   "outputs": [
    {
     "data": {
      "text/plain": [
       "5"
      ]
     },
     "execution_count": 5,
     "metadata": {},
     "output_type": "execute_result"
    }
   ],
   "source": [
    "fib(5)"
   ]
  },
  {
   "cell_type": "code",
   "execution_count": 16,
   "metadata": {},
   "outputs": [],
   "source": [
    "#Memoized fibonacci: \n",
    "fibtable = {}\n",
    "def fib1(n):\n",
    "    if n in fibtable:\n",
    "        return fibtable[n]\n",
    "    if n==0 or n==1:\n",
    "        value = n\n",
    "    else: \n",
    "        value = fib1(n-1)+fib1(n-2)\n",
    "    fibtable[n]=value\n",
    "    return value"
   ]
  },
  {
   "cell_type": "code",
   "execution_count": 17,
   "metadata": {},
   "outputs": [
    {
     "data": {
      "text/plain": [
       "5"
      ]
     },
     "execution_count": 17,
     "metadata": {},
     "output_type": "execute_result"
    }
   ],
   "source": [
    "fib1(5)"
   ]
  },
  {
   "cell_type": "code",
   "execution_count": 21,
   "metadata": {},
   "outputs": [],
   "source": [
    "#Dynamic Programming fibonacci : \n",
    "fibtable={}\n",
    "def fib2(n):\n",
    "    fibtable[0]=0\n",
    "    fibtable[1]=1\n",
    "    for i in range(2,n+1):\n",
    "        fibtable[i]=fibtable[i-1]+fibtable[i-2]\n",
    "        \n",
    "    return fibtable[n]"
   ]
  },
  {
   "cell_type": "code",
   "execution_count": 22,
   "metadata": {},
   "outputs": [
    {
     "data": {
      "text/plain": [
       "5"
      ]
     },
     "execution_count": 22,
     "metadata": {},
     "output_type": "execute_result"
    }
   ],
   "source": [
    "fib2(5)"
   ]
  },
  {
   "cell_type": "code",
   "execution_count": null,
   "metadata": {},
   "outputs": [],
   "source": []
  }
 ],
 "metadata": {
  "kernelspec": {
   "display_name": "Python 3",
   "language": "python",
   "name": "python3"
  },
  "language_info": {
   "codemirror_mode": {
    "name": "ipython",
    "version": 3
   },
   "file_extension": ".py",
   "mimetype": "text/x-python",
   "name": "python",
   "nbconvert_exporter": "python",
   "pygments_lexer": "ipython3",
   "version": "3.8.5"
  }
 },
 "nbformat": 4,
 "nbformat_minor": 4
}
